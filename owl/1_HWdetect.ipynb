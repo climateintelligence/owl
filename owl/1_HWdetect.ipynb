{
 "cells": [
  {
   "cell_type": "code",
   "execution_count": 1,
   "id": "5c0d6eea-3bb8-4f47-a551-574f87f898f7",
   "metadata": {},
   "outputs": [],
   "source": [
    "import re\n",
    "import numpy as np\n",
    "from netCDF4 import Dataset\n",
    "import matplotlib.pyplot as plt\n",
    "from datetime import date, datetime, timedelta\n",
    "import time\n",
    "import glob\n",
    "from joblib import Parallel, delayed\n",
    "import xarray as xr\n",
    "import sys\n",
    "sys.path.insert(1, '/home/b/b382634/owl/owl')\n",
    "from HWMI import *"
   ]
  },
  {
   "cell_type": "code",
   "execution_count": 2,
   "id": "d455cb27-69d7-4edf-8999-52537d45da21",
   "metadata": {},
   "outputs": [],
   "source": [
    "### SET-UP ###\n",
    "var=\"tmax\" #tmax,tmin\n",
    "\n",
    "percent_thresh=90\n",
    "duration_min=3\n",
    "\n",
    "### TIME ###\n",
    "clim_start=1981 #1981\n",
    "clim_end=2010 #2010\n",
    "period_start=1940\n",
    "period_end=2022\n",
    "if (period_end<clim_end) or (period_start>clim_start):\n",
    "    raise Exception(\"Climatology period falls outside of target period\")\n",
    "years=[*range(period_start,period_end+1)]\n",
    "climyears=[*range(clim_start,clim_end+1)]\n",
    "\n",
    "nyear=len(years)\n",
    "nclimyear=len(climyears)\n",
    "nday=123 # days in period May to August\n",
    "nrealisation=1 # ensemble members"
   ]
  },
  {
   "cell_type": "code",
   "execution_count": 3,
   "id": "646a06a4-80d6-4e6c-b9a3-abfbe7dbd4fc",
   "metadata": {},
   "outputs": [],
   "source": [
    "# Choose location #\n",
    "# LAKE COMO VALLE #\n",
    "region=\"LakeComo_Valle\"\n",
    "lon = '''9°5'0\"E'''\n",
    "lat = '''45°49'0\"N'''\n",
    "\n",
    "deg, minutes, seconds, direction =  re.split('[°\\'\"]', lat)\n",
    "latP= (float(deg) + float(minutes)/60 + float(seconds)/(60*60)) * (-1 if direction in ['W', 'S'] else 1)\n",
    "deg, minutes, seconds, direction =  re.split('[°\\'\"]',lon)\n",
    "lonP= (float(deg) + float(minutes)/60 + float(seconds)/(60*60)) * (-1 if direction in ['W', 'S'] else 1)\n",
    "\n",
    "def find_nearest(array, value):\n",
    "    array = np.asarray(array)\n",
    "    idx = (np.abs(array - value)).argmin()\n",
    "    return array[idx]\n"
   ]
  },
  {
   "cell_type": "code",
   "execution_count": 4,
   "id": "922529bf-8ba9-43d1-b6e7-9b40a1b4900d",
   "metadata": {},
   "outputs": [
    {
     "name": "stdout",
     "output_type": "stream",
     "text": [
      "1940\n",
      "1941\n",
      "1942\n",
      "1943\n",
      "1944\n",
      "1945\n",
      "1946\n",
      "1947\n",
      "1948\n",
      "1949\n",
      "1950\n",
      "1951\n",
      "1952\n",
      "1953\n",
      "1954\n",
      "1955\n",
      "1956\n",
      "1957\n",
      "1958\n",
      "1959\n",
      "1960\n",
      "1961\n",
      "1962\n",
      "1963\n",
      "1964\n",
      "1965\n",
      "1966\n",
      "1967\n",
      "1968\n",
      "1969\n",
      "1970\n",
      "1971\n",
      "1972\n",
      "1973\n",
      "1974\n",
      "1975\n",
      "1976\n",
      "1977\n",
      "1978\n",
      "1979\n",
      "1980\n",
      "1981\n",
      "1982\n",
      "1983\n",
      "1984\n",
      "1985\n",
      "1986\n",
      "1987\n",
      "1988\n",
      "1989\n",
      "1990\n",
      "1991\n",
      "1992\n",
      "1993\n",
      "1994\n",
      "1995\n",
      "1996\n",
      "1997\n",
      "1998\n",
      "1999\n",
      "2000\n",
      "2001\n",
      "2002\n",
      "2003\n",
      "2004\n",
      "2005\n",
      "2006\n",
      "2007\n",
      "2008\n",
      "2009\n",
      "2010\n",
      "2011\n",
      "2012\n",
      "2013\n",
      "2014\n",
      "2015\n",
      "2016\n",
      "2017\n",
      "2018\n",
      "2019\n",
      "2020\n",
      "2021\n",
      "2022\n"
     ]
    }
   ],
   "source": [
    "data=np.zeros((nyear,nday,1))\n",
    "\n",
    "times=[]\n",
    "for iyear,year in enumerate(years):\n",
    "    print (year)\n",
    "    if var==\"atemp2m_night_russo\":\n",
    "        dataset=Dataset(\"/work/bk1318/b382634/ERA5/daily/{0}/atemp2m_night_{0}_EUR_MJJA.nc\".format(year),'r')\n",
    "        tmax=dataset['atemp2m_night'][:]\n",
    "    else:   \n",
    "        dataset=Dataset(\"/work/bk1318/b382634/ERA5/daily/{0}/{0}_{1}_EUR_MJJA.nc\".format(var,year),'r')\n",
    "        tmax=dataset['{0}'.format(var)][:]\n",
    "    time=dataset['time'][:]\n",
    "\n",
    "    if iyear==0:   \n",
    "        lons=dataset['longitude'][:]\n",
    "        lats=dataset['latitude'][:]\n",
    "        ind_lon=np.argwhere(lons==find_nearest(lons,lonP))[0]\n",
    "        ind_lat=np.argwhere(lats==find_nearest(lats,latP))[0]\n",
    "    \n",
    "    times.append(time.tolist())\n",
    "\n",
    "    for t in range(tmax.shape[0]):\n",
    "        data[iyear,t]=tmax[t,ind_lat,ind_lon]\n",
    "        #print (year,t,np.mean(tmask))"
   ]
  },
  {
   "cell_type": "code",
   "execution_count": 5,
   "id": "20b849d4-f393-4b6b-99d7-697c36af210f",
   "metadata": {},
   "outputs": [
    {
     "name": "stdout",
     "output_type": "stream",
     "text": [
      "(83, 123, 1)\n"
     ]
    }
   ],
   "source": [
    "print (data.shape)"
   ]
  },
  {
   "cell_type": "code",
   "execution_count": 6,
   "id": "e534bf55-d955-45f9-ab42-acf549e3287a",
   "metadata": {},
   "outputs": [],
   "source": [
    "def parallelized_HWMIs_computation(target):\n",
    "    HWMIyear, HWlstyear, HWstartmembyear, HWendmembyear, ndayexedthresholdyear, DDthresholdyear, subHWarrayyear, fitsubHWarrayyear,sstMeanarrayyear, impossible_fit, perc_thresh_clim, exed_percentile, mask_duration_min, mean_clim = calc_HWMIyear(target, climyears, years, cross_valid = False, percent_thresh = percent_thresh, duration_min = duration_min, opt=\"polyfit\")\n",
    "    \n",
    "    HW_arg=np.argwhere(mask_duration_min.flatten()>0)\n",
    "    intensity=np.zeros(((nyear)*nday))\n",
    "    for arg in HW_arg:\n",
    "        arg=int(arg)\n",
    "        dur=int(mask_duration_min.flatten()[arg])\n",
    "        intensity[arg:arg+dur]=exed_percentile.flatten()[arg:arg+dur]\n",
    "\n",
    "    occurrence=np.copy(intensity)\n",
    "    occurrence[occurrence>0]=1\n",
    "    intensity=np.ma.masked_where(intensity==0,intensity)\n",
    "    occurrence=np.reshape(occurrence,(nyear,nday))\n",
    "    intensity=np.reshape(intensity,(nyear,nday))\n",
    "    \n",
    "    return np.array(occurrence), np.array(intensity)"
   ]
  },
  {
   "cell_type": "code",
   "execution_count": 7,
   "id": "71f2a663-8879-4691-b3a6-24d7e212e02e",
   "metadata": {},
   "outputs": [
    {
     "name": "stdout",
     "output_type": "stream",
     "text": [
      "(83, 123, 1)\n"
     ]
    },
    {
     "name": "stderr",
     "output_type": "stream",
     "text": [
      "/tmp/ipykernel_779420/3613734751.py:7: DeprecationWarning: Conversion of an array with ndim > 0 to a scalar is deprecated, and will error in future. Ensure you extract a single element from your array before performing this operation. (Deprecated NumPy 1.25.)\n",
      "  arg=int(arg)\n"
     ]
    }
   ],
   "source": [
    "print (data.shape)\n",
    "HW_occ, HW_int=parallelized_HWMIs_computation(data)"
   ]
  },
  {
   "cell_type": "code",
   "execution_count": 8,
   "id": "3413b195-297c-462b-a239-708c5008e59d",
   "metadata": {},
   "outputs": [
    {
     "name": "stdout",
     "output_type": "stream",
     "text": [
      "[[0. 0. 0. ... 0. 0. 0.]\n",
      " [0. 0. 0. ... 0. 0. 0.]\n",
      " [0. 0. 0. ... 1. 1. 1.]\n",
      " ...\n",
      " [0. 0. 0. ... 0. 0. 0.]\n",
      " [0. 0. 0. ... 0. 0. 0.]\n",
      " [0. 0. 0. ... 0. 0. 0.]]\n"
     ]
    }
   ],
   "source": [
    "print (HW_occ)"
   ]
  },
  {
   "cell_type": "code",
   "execution_count": null,
   "id": "7005f4a5-7887-437c-ba7a-4b0919859e51",
   "metadata": {},
   "outputs": [],
   "source": []
  }
 ],
 "metadata": {
  "kernelspec": {
   "display_name": "Python (ropy)",
   "language": "python",
   "name": "ropy"
  },
  "language_info": {
   "codemirror_mode": {
    "name": "ipython",
    "version": 3
   },
   "file_extension": ".py",
   "mimetype": "text/x-python",
   "name": "python",
   "nbconvert_exporter": "python",
   "pygments_lexer": "ipython3",
   "version": "3.10.14"
  }
 },
 "nbformat": 4,
 "nbformat_minor": 5
}
